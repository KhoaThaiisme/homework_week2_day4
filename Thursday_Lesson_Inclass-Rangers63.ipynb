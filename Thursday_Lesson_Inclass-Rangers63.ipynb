{
 "cells": [
  {
   "cell_type": "markdown",
   "metadata": {},
   "source": [
    "# Object-Oriented-Programming (OOP)"
   ]
  },
  {
   "cell_type": "markdown",
   "metadata": {},
   "source": [
    "## Tasks Today:\n",
    "\n",
    "   \n",
    "\n",
    "1) <b>Creating a Class (Initializing/Declaring)</b> <br>\n",
    "2) <b>Using a Class (Instantiating)</b> <br>\n",
    " &nbsp;&nbsp;&nbsp;&nbsp; a) Creating One Instance <br>\n",
    " &nbsp;&nbsp;&nbsp;&nbsp; b) Creating Multiple Instances <br>\n",
    " &nbsp;&nbsp;&nbsp;&nbsp; c) In-Class Exercise #1 - Create a Class 'Car' and instantiate three different makes of cars <br>\n",
    "3) <b>The \\__init\\__() Method</b> <br>\n",
    " &nbsp;&nbsp;&nbsp;&nbsp; a) The 'self' Attribute <br>\n",
    "4) <b>Class Attributes</b> <br>\n",
    " &nbsp;&nbsp;&nbsp;&nbsp; a) Initializing Attributes <br>\n",
    " &nbsp;&nbsp;&nbsp;&nbsp; b) Setting an Attribute Outside of the \\__init\\__() Method <br>\n",
    " &nbsp;&nbsp;&nbsp;&nbsp; c) Setting Defaults for Attributes <br>\n",
    " &nbsp;&nbsp;&nbsp;&nbsp; d) Accessing Class Attributes <br>\n",
    " &nbsp;&nbsp;&nbsp;&nbsp; e) Changing Class Attributes <br>\n",
    " &nbsp;&nbsp;&nbsp;&nbsp; f) In-Class Exercise #2 - Add a color and wheels attribute to your 'Car' class <br>\n",
    "5) <b>Class Methods</b> <br>\n",
    " &nbsp;&nbsp;&nbsp;&nbsp; a) Creating <br>\n",
    " &nbsp;&nbsp;&nbsp;&nbsp; b) Calling <br>\n",
    " &nbsp;&nbsp;&nbsp;&nbsp; c) Modifying an Attribute's Value Through a Method <br>\n",
    " &nbsp;&nbsp;&nbsp;&nbsp; d) Incrementing an Attribute's Value Through a Method <br>\n",
    " &nbsp;&nbsp;&nbsp;&nbsp; e) In-Class Exercise #3 - Add a method that prints the cars color and wheel number, then call them <br>\n",
    "6) <b>Inheritance</b> <br>\n",
    " &nbsp;&nbsp;&nbsp;&nbsp; a) Syntax for Inheriting from a Parent Class <br>\n",
    " &nbsp;&nbsp;&nbsp;&nbsp; b) The \\__init\\__() Method for a Child Class (super()) <br>\n",
    " &nbsp;&nbsp;&nbsp;&nbsp; c) Defining Attributes and Methods for the Child Class <br>\n",
    " &nbsp;&nbsp;&nbsp;&nbsp; d) Method Overriding <br>\n",
    " &nbsp;&nbsp;&nbsp;&nbsp; e) In-Class Exercise #4 - Create a class 'Ford' that inherits from 'Car' class and initialize it as a Blue Ford Explorer with 4 wheels using the super() method <br>\n",
    "7) <b>Classes as Attributes</b> <br>\n",
    "8) <b>Exercises</b> <br>\n",
    " &nbsp;&nbsp;&nbsp;&nbsp; a) Exercise #1 - Turn the shopping cart program from yesterday into an object-oriented program <br>"
   ]
  },
  {
   "cell_type": "markdown",
   "metadata": {},
   "source": [
    "## Creating a Class (Initializing/Declaring)\n",
    "<p>When creating a class, function, or even a variable you are initializing that object. Initializing and Declaring occur at the same time in Python, whereas in lower level languages you have to declare an object before initializing it. This is the first step in the process of using a class.</p>"
   ]
  },
  {
   "cell_type": "code",
   "execution_count": 1,
   "metadata": {},
   "outputs": [],
   "source": [
    "class Car():\n",
    "    wheels = 4\n",
    "    color = 'blue'"
   ]
  },
  {
   "cell_type": "code",
   "execution_count": 9,
   "metadata": {},
   "outputs": [],
   "source": [
    "# Optional Parenthesis\n",
    "class Agent():\n",
    "    name = 'Smith'\n",
    "    glasses = 'black'"
   ]
  },
  {
   "cell_type": "markdown",
   "metadata": {},
   "source": [
    "## Using a Class (Instantiating)\n",
    "<p>The process of creating a class is called <i>Instantiating</i>. Each time you create a variable of that type of class, it is referred to as an <i>Instance</i> of that class. This is the second step in the process of using a class.</p>"
   ]
  },
  {
   "cell_type": "markdown",
   "metadata": {},
   "source": [
    "##### Creating One Instance"
   ]
  },
  {
   "cell_type": "code",
   "execution_count": 2,
   "metadata": {},
   "outputs": [
    {
     "name": "stdout",
     "output_type": "stream",
     "text": [
      "<__main__.Car object at 0x7fb679b07a60>\n"
     ]
    }
   ],
   "source": [
    "ford = Car()\n",
    "\n",
    "print(ford)"
   ]
  },
  {
   "cell_type": "code",
   "execution_count": 11,
   "metadata": {},
   "outputs": [],
   "source": [
    "new_agent = Agent()"
   ]
  },
  {
   "cell_type": "markdown",
   "metadata": {},
   "source": [
    "##### Creating Multiple Instances"
   ]
  },
  {
   "cell_type": "code",
   "execution_count": 7,
   "metadata": {},
   "outputs": [
    {
     "data": {
      "text/plain": [
       "'blue'"
      ]
     },
     "execution_count": 7,
     "metadata": {},
     "output_type": "execute_result"
    }
   ],
   "source": [
    "# Creating multiple instances\n",
    "chevy = Car()\n",
    "honda = Car()\n",
    "volvo = Car()\n",
    "# outputting class attributes\n",
    "honda.wheels\n",
    "chevy.wheels\n",
    "\n",
    "volvo.color\n",
    "# AttributeError\n",
    "volvo.engine\n",
    "volvo.color = 'white'"
   ]
  },
  {
   "cell_type": "code",
   "execution_count": 10,
   "metadata": {},
   "outputs": [
    {
     "data": {
      "text/plain": [
       "'Smith'"
      ]
     },
     "execution_count": 10,
     "metadata": {},
     "output_type": "execute_result"
    }
   ],
   "source": [
    "agent_1 = Agent()\n",
    "agent_2 = Agent()\n",
    "agent_3 = Agent()\n",
    "\n",
    "agent_2.name"
   ]
  },
  {
   "cell_type": "code",
   "execution_count": null,
   "metadata": {},
   "outputs": [],
   "source": []
  },
  {
   "cell_type": "markdown",
   "metadata": {},
   "source": [
    "##### In-Class Exercise #1 - Create a Class 'Car' and Instantiate three different makes of cars"
   ]
  },
  {
   "cell_type": "code",
   "execution_count": 29,
   "metadata": {},
   "outputs": [
    {
     "name": "stdout",
     "output_type": "stream",
     "text": [
      "4\n",
      "honda\n",
      "fit\n",
      "Teal\n"
     ]
    }
   ],
   "source": [
    "class Car():\n",
    "    color= 'gray'\n",
    "    engine= '4-cylinders'\n",
    "    wheels = 4\n",
    "#     features = [backup camera]\n",
    "\n",
    "   \n",
    "# Toyota = Car()\n",
    "# Jeep = Car()\n",
    "# Tesla = Car()\n",
    "\n",
    "# Jeep.color\n",
    "# Tesla.engine\n",
    "# Jeep.features[0]"
   ]
  },
  {
   "cell_type": "markdown",
   "metadata": {},
   "source": [
    "## The \\__init\\__() Method <br>\n",
    "<p>This method is used in almost every created class, and called only once upon the creation of the class instance. This method will initialize all variables needed for the object.</p>"
   ]
  },
  {
   "cell_type": "code",
   "execution_count": 32,
   "metadata": {},
   "outputs": [
    {
     "name": "stdout",
     "output_type": "stream",
     "text": [
      "4\n",
      "honda\n",
      "fit\n"
     ]
    },
    {
     "ename": "AttributeError",
     "evalue": "type object 'Car' has no attribute 'color'",
     "output_type": "error",
     "traceback": [
      "\u001b[0;31m---------------------------------------------------------------------------\u001b[0m",
      "\u001b[0;31mAttributeError\u001b[0m                            Traceback (most recent call last)",
      "Cell \u001b[0;32mIn[32], line 16\u001b[0m\n\u001b[1;32m     14\u001b[0m Car\u001b[38;5;241m.\u001b[39mwheels\n\u001b[1;32m     15\u001b[0m \u001b[38;5;66;03m# Attribute error\u001b[39;00m\n\u001b[0;32m---> 16\u001b[0m \u001b[43mCar\u001b[49m\u001b[38;5;241;43m.\u001b[39;49m\u001b[43mcolor\u001b[49m\n\u001b[1;32m     17\u001b[0m car_2 \u001b[38;5;241m=\u001b[39m Car(color \u001b[38;5;241m=\u001b[39m \u001b[38;5;124m'\u001b[39m\u001b[38;5;124mTeal\u001b[39m\u001b[38;5;124m'\u001b[39m,make \u001b[38;5;241m=\u001b[39m \u001b[38;5;124m'\u001b[39m\u001b[38;5;124mChevy\u001b[39m\u001b[38;5;124m'\u001b[39m,model \u001b[38;5;241m=\u001b[39m \u001b[38;5;124m'\u001b[39m\u001b[38;5;124mCruz\u001b[39m\u001b[38;5;124m'\u001b[39m)\n\u001b[1;32m     18\u001b[0m my_truck \u001b[38;5;241m=\u001b[39m Car( make \u001b[38;5;241m=\u001b[39m \u001b[38;5;124m'\u001b[39m\u001b[38;5;124mChevy\u001b[39m\u001b[38;5;124m'\u001b[39m, model \u001b[38;5;241m=\u001b[39m \u001b[38;5;124m'\u001b[39m\u001b[38;5;124mCruz\u001b[39m\u001b[38;5;124m'\u001b[39m, color \u001b[38;5;241m=\u001b[39m \u001b[38;5;124m'\u001b[39m\u001b[38;5;124mTeal\u001b[39m\u001b[38;5;124m'\u001b[39m)\n",
      "\u001b[0;31mAttributeError\u001b[0m: type object 'Car' has no attribute 'color'"
     ]
    }
   ],
   "source": [
    "class Car():\n",
    "    wheels= 4\n",
    "    def __init__(self, color, make, model):\n",
    "        self.color = color\n",
    "        self.make = make\n",
    "        self.model = model\n",
    "\n",
    "new_car = Car('white', 'honda', 'fit')\n",
    "\n",
    "print(new_car.wheels)\n",
    "print(new_car.make)\n",
    "print(new_car.model)\n",
    "# Class attribute can be accessed by class, but not instance attribute\n",
    "Car.wheels\n",
    "# Attribute error\n",
    "Car.color\n",
    "car_2 = Car(color = 'Teal',make = 'Chevy',model = 'Cruz')\n",
    "my_truck = Car( make = 'Chevy', model = 'Cruz', color = 'Teal')\n",
    "print(car_2.color)        \n",
    "        "
   ]
  },
  {
   "cell_type": "code",
   "execution_count": 36,
   "metadata": {},
   "outputs": [],
   "source": [
    "class Agent:\n",
    "    name = 'Smith'\n",
    "# with default value\n",
    "    def __init__(self, person_overwritten, weapon, in_matrix=True):\n",
    "        self.p_overwritten = person_overwritten\n",
    "        self.weapon = weapon\n",
    "        self.in_matrix = in_matrix\n",
    "        \n",
    "new_agent = Agent('Bob', 'Dessert Eagle')"
   ]
  },
  {
   "cell_type": "markdown",
   "metadata": {},
   "source": [
    "##### The 'self' Attribute <br>\n",
    "<p>This attribute is required to keep track of specific instance's attributes. Without the self attribute, the program would not know how to reference or keep track of an instance's attributes.</p>"
   ]
  },
  {
   "cell_type": "code",
   "execution_count": null,
   "metadata": {},
   "outputs": [],
   "source": [
    "# see above"
   ]
  },
  {
   "cell_type": "markdown",
   "metadata": {},
   "source": [
    "## Class Attributes <br>\n",
    "<p>While variables are inside of a class, they are referred to as attributes and not variables. When someone says 'attribute' you know they're speaking about a class. Attributes can be initialized through the init method, or outside of it.</p>"
   ]
  },
  {
   "cell_type": "markdown",
   "metadata": {},
   "source": [
    "##### Initializing Attributes"
   ]
  },
  {
   "cell_type": "code",
   "execution_count": null,
   "metadata": {},
   "outputs": [],
   "source": [
    "# see above"
   ]
  },
  {
   "cell_type": "markdown",
   "metadata": {},
   "source": [
    "##### Accessing Class Attributes"
   ]
  },
  {
   "cell_type": "code",
   "execution_count": 37,
   "metadata": {
    "scrolled": true
   },
   "outputs": [
    {
     "data": {
      "text/plain": [
       "'Smith'"
      ]
     },
     "execution_count": 37,
     "metadata": {},
     "output_type": "execute_result"
    }
   ],
   "source": [
    "# See Above\n",
    "# AttributeError stored as p_overwritten\n",
    "# new_agent.person_overwritten\n",
    "\n",
    "new_agent.p_overwritten\n",
    "\n",
    "Agent.name"
   ]
  },
  {
   "cell_type": "markdown",
   "metadata": {},
   "source": [
    "##### Setting Defaults for Attributes"
   ]
  },
  {
   "cell_type": "code",
   "execution_count": 41,
   "metadata": {},
   "outputs": [
    {
     "data": {
      "text/plain": [
       "True"
      ]
     },
     "execution_count": 41,
     "metadata": {},
     "output_type": "execute_result"
    }
   ],
   "source": [
    "# 2nd method\n",
    "class Agent:\n",
    "    name='Smith'\n",
    "    # with default value not requiring argument when creating instance\n",
    "    def __init__(self, person_overwritten, weapon):\n",
    "        self.p_overwritten = person_overwritten\n",
    "        self.weapon = weapon\n",
    "        self.in_matrix = True\n",
    "        \n",
    "new_agent = Agent('Joe', 'Dessert Eagle')\n",
    "\n",
    "new_agent.in_matrix"
   ]
  },
  {
   "cell_type": "markdown",
   "metadata": {},
   "source": [
    "##### Changing Class Attributes <br>\n",
    "<p>Keep in mind there are global class attributes and then there are attributes only available to each class instance which won't effect other classes.</p>"
   ]
  },
  {
   "cell_type": "code",
   "execution_count": 42,
   "metadata": {},
   "outputs": [
    {
     "name": "stdout",
     "output_type": "stream",
     "text": [
      "Smith\n",
      "Brown  after change\n",
      "Joe  before\n",
      "Bill  after\n"
     ]
    }
   ],
   "source": [
    "print(new_agent.name)\n",
    "new_agent.name=\"Brown\"\n",
    "print(new_agent.name, ' after change')\n",
    "\n",
    "print(new_agent.p_overwritten, ' before')\n",
    "new_agent.p_overwritten = 'Bill'\n",
    "print(new_agent.p_overwritten, ' after')"
   ]
  },
  {
   "cell_type": "code",
   "execution_count": 43,
   "metadata": {},
   "outputs": [
    {
     "data": {
      "text/plain": [
       "'Truck'"
      ]
     },
     "execution_count": 43,
     "metadata": {},
     "output_type": "execute_result"
    }
   ],
   "source": [
    "new_agent.car = 'Truck'\n",
    "new_agent.car"
   ]
  },
  {
   "cell_type": "markdown",
   "metadata": {},
   "source": [
    "##### In-Class Exercise #2 - Add a doors and seats attribute to your 'Car' class then print out two different instances with different doors and seats"
   ]
  },
  {
   "cell_type": "code",
   "execution_count": 56,
   "metadata": {},
   "outputs": [
    {
     "name": "stdout",
     "output_type": "stream",
     "text": [
      "good wheels\n",
      "2\n"
     ]
    },
    {
     "data": {
      "text/plain": [
       "{'doors': 2, 'seats': 5, 'features': ['back-up camera', 'hi-fi music']}"
      ]
     },
     "execution_count": 56,
     "metadata": {},
     "output_type": "execute_result"
    }
   ],
   "source": [
    "class Car():\n",
    "    def __init__(self, doors, seats):\n",
    "        self.doors = doors\n",
    "        self.seats = seats\n",
    "        self.features = ['back-up camera', 'hi-fi music']\n",
    "        \n",
    "        \n",
    "        \n",
    "Toyota_car = Car(doors = 4, seats = 4)\n",
    "Toyota_car.features = 'good wheels'\n",
    "Jeep_car = Car(doors = 2, seats = 5)\n",
    "\n",
    "print(Toyota_car.features)\n",
    "print(Jeep_car.doors)\n",
    "\n",
    "Toyota_car.__dict__\n",
    "Jeep_car.__dict__"
   ]
  },
  {
   "cell_type": "markdown",
   "metadata": {},
   "source": [
    "## Class Methods <br>\n",
    "<p>While inside of a class, functions are referred to as 'methods'. If you hear someone mention methods, they're speaking about classes. Methods are essentially functions, but only callable on the instances of a class.</p>"
   ]
  },
  {
   "cell_type": "markdown",
   "metadata": {},
   "source": [
    "##### Creating"
   ]
  },
  {
   "cell_type": "code",
   "execution_count": 121,
   "metadata": {},
   "outputs": [
    {
     "name": "stdout",
     "output_type": "stream",
     "text": [
      "red pill down the rabbit hold, blue pill believe whatever you would like?red\n",
      "are you ready for trainingyes\n",
      "\n",
      " You know ['KickBoxing', 'kung fu', 'taekwando', 'aikido', 'drunken monk', 'winghun']\n",
      "\n",
      " Plug in, Enter the Matrix\n",
      "Agents are coming, slow down time, do crazy backbends\n",
      "\n",
      " Pick up the Phone, Exit the Matrix\n",
      "red pill down the rabbit hole, blue pill believe whatever you would like?blue\n",
      "Stay hooked to the machine\n"
     ]
    }
   ],
   "source": [
    "class Human_Matrix_Universe:\n",
    "    \n",
    "    '''\n",
    "        A class with methods to leave matrix, get training, enter matrix,\n",
    "        battle agents, leave matrix, decide to stay\n",
    "        class attributes:\n",
    "            name, fighting-styles (list), awake\n",
    "    '''\n",
    "    \n",
    "    def __init__(self, name, fighting_styles=[], awake=False):\n",
    "        self.name = name\n",
    "        self.fighting_styles = fighting_styles\n",
    "        self.awake = awake\n",
    "        self.location = 1\n",
    "        \n",
    "    def pill_decision(self, pill):\n",
    "        # updating a class attribute\n",
    "        if pill == 'red':\n",
    "#             print('True')\n",
    "            self.awake = True\n",
    "        else:\n",
    "            self.awake = False\n",
    "            print('Stay hooked to the machine')\n",
    "    \n",
    "    def get_training(self):\n",
    "        self.fighting_styles += ['kung fu', 'taekwando', 'aikido', 'drunken monk', 'winghun']\n",
    "        print(f'\\n You know {self.fighting_styles}')\n",
    "    \n",
    "# Dynamically addjust class attributes\n",
    "    def specific_training(self, fighting_style):\n",
    "        self.fighting_styles.append(fighting_style)\n",
    "        print(f'\\n You know {self.fighting_styles}')\n",
    "\n",
    "    def enter_matrix(self):\n",
    "        print('\\n Plug in, Enter the Matrix')\n",
    "        self.location = 1\n",
    "    \n",
    "    def exit_matrix(self):\n",
    "        print('\\n Pick up the Phone, Exit the Matrix')\n",
    "        self.location = 0\n",
    "    \n",
    "    def dodge_bullets(self):\n",
    "        if self.location and self.awake: \n",
    "            print('Agents are coming, slow down time, do crazy backbends')\n",
    "        else: \n",
    "            print('Run')\n",
    "    \n",
    "    def driver(self):\n",
    "        pill = input('red pill down the rabbit hold, blue pill believe whatever you would like?').lower()\n",
    "        self.pill_decision(pill)\n",
    "        while self.awake:\n",
    "            res = input('are you ready for training')\n",
    "            if res == 'yes':\n",
    "                self.get_training()\n",
    "            self.enter_matrix()\n",
    "            self.dodge_bullets()\n",
    "            self.exit_matrix()\n",
    "            pill = input('red pill down the rabbit hole, blue pill believe whatever you would like?').lower()\n",
    "            self.pill_decision(pill)\n",
    "        \n",
    "new_human = Human_Matrix_Universe('Tank', ['KickBoxing'])\n",
    "\n",
    "new_human.driver()\n"
   ]
  },
  {
   "cell_type": "markdown",
   "metadata": {},
   "source": [
    "##### Calling"
   ]
  },
  {
   "cell_type": "code",
   "execution_count": 100,
   "metadata": {},
   "outputs": [
    {
     "name": "stdout",
     "output_type": "stream",
     "text": [
      "Agents are coming, slow down time, do crazy backbends\n"
     ]
    }
   ],
   "source": [
    "neo = Human_Matrix_Universe('Neo')\n",
    "\n",
    "# attribute fefore method\n",
    "# print(neo.awake)\n",
    "\n",
    "# modify class attribute\n",
    "neo.pill_decision('red')\n",
    "# after method\n",
    "neo.awake\n",
    "\n",
    "neo.dodge_bullets()"
   ]
  },
  {
   "cell_type": "markdown",
   "metadata": {},
   "source": [
    "##### Modifying an Attribute's Value Through a Method"
   ]
  },
  {
   "cell_type": "code",
   "execution_count": 118,
   "metadata": {},
   "outputs": [
    {
     "name": "stdout",
     "output_type": "stream",
     "text": [
      "black\n"
     ]
    }
   ],
   "source": [
    "# before\n",
    "# print(neo.fighting_styles)\n",
    "\n",
    "# neo.specific_training('boxing')\n",
    "\n",
    "# print(neo.fighting_styles)\n",
    "\n",
    "# neo.get_training()\n",
    "# print(neo)\n",
    "\n",
    "# neo.get_training()\n",
    "\n",
    "# example of adding attribute with setattr(<object>, <attribute>, <value>)\n",
    "setattr(neo, \"glasses\", 'black')\n",
    "\n",
    "print(neo.glasses)"
   ]
  },
  {
   "cell_type": "markdown",
   "metadata": {},
   "source": [
    "##### Incrementing an Attribute's Value Through a Method"
   ]
  },
  {
   "cell_type": "code",
   "execution_count": null,
   "metadata": {},
   "outputs": [],
   "source": []
  },
  {
   "cell_type": "markdown",
   "metadata": {},
   "source": [
    "##### In-Class Exercise #3 - Add a method that takes in three parameters of year, doors and seats and prints out a formatted print statement with make, model, year, seats, and doors"
   ]
  },
  {
   "cell_type": "code",
   "execution_count": 98,
   "metadata": {},
   "outputs": [
    {
     "name": "stdout",
     "output_type": "stream",
     "text": [
      "my Toyota Camry is 2020 with door of 4 and 4 seats\n"
     ]
    }
   ],
   "source": [
    "# Create class with 2 paramters inside of the __init__ which are make and model\n",
    "\n",
    "# Inside of the Car class create a method that has 4 parameter in total (self,year,door,seats)\n",
    "\n",
    "# Output: This car is from 2019 and is a Ford Expolorer and has 4 doors and 5 seats\n",
    "\n",
    "class Car:\n",
    "    def __init__(self, make, model):\n",
    "        self.make = make\n",
    "        self.model = model\n",
    "    \n",
    "    def type_car(self, year, door, seats):\n",
    "        self.year = year\n",
    "        self.door = door\n",
    "        self.seats = seats\n",
    "        print(f'my {self.make} {self.model} is {year} with door of {door} and {seats} seats')\n",
    "        \n",
    "my_car = Car('Toyota', 'Camry')\n",
    "my_car.type_car('2020', 4, 4)"
   ]
  },
  {
   "cell_type": "markdown",
   "metadata": {},
   "source": [
    "## Inheritance <br>\n",
    "<p>You can create a child-parent relationship between two classes by using inheritance. What this allows you to do is have overriding methods, but also inherit traits from the parent class. Think of it as an actual parent and child, the child will inherit the parent's genes, as will the classes in OOP</p>"
   ]
  },
  {
   "cell_type": "markdown",
   "metadata": {},
   "source": [
    "##### Syntax for Inheriting from a Parent Class"
   ]
  },
  {
   "cell_type": "code",
   "execution_count": 126,
   "metadata": {},
   "outputs": [
    {
     "name": "stdout",
     "output_type": "stream",
     "text": [
      "medium\n",
      "I am a human\n",
      "Aragorn Fighter {'strength': 10, 'dexterity': 10}\n"
     ]
    }
   ],
   "source": [
    "class Fantasy_Character:\n",
    "    speed = 10\n",
    "    \n",
    "    def __init__(self, name, fantasy_class, stats):\n",
    "        self.name = name\n",
    "        self.fantasy_class = fantasy_class\n",
    "        self.stats = stats\n",
    "        \n",
    "    def display_character(self):\n",
    "        print(f'{self.name} {self.fantasy_class} {self.stats}')\n",
    "        \n",
    "class Human(Fantasy_Character):\n",
    "    size = 'medium'\n",
    "    \n",
    "    def display_fantasy_race(self):\n",
    "        print('I am a human')\n",
    "\n",
    "dummy_stats = {\n",
    "    'strength': 10,\n",
    "    'dexterity': 10\n",
    "}\n",
    "\n",
    "new_human = Human('Aragorn', 'Fighter', dummy_stats)\n",
    "\n",
    "print(new_human.size)\n",
    "new_human.display_fantasy_race()\n",
    "new_human.speed\n",
    "new_human.display_character()"
   ]
  },
  {
   "cell_type": "markdown",
   "metadata": {},
   "source": [
    "##### The \\__init\\__() Method for a Child Class - super()"
   ]
  },
  {
   "cell_type": "code",
   "execution_count": 131,
   "metadata": {
    "scrolled": true
   },
   "outputs": [
    {
     "name": "stdout",
     "output_type": "stream",
     "text": [
      "My class is a hobbit\n",
      "bilbo ranger {'strength': 10, 'dexterity': 10}\n"
     ]
    }
   ],
   "source": [
    "from random import randint\n",
    "\n",
    "class Hobbit(Fantasy_Character):\n",
    "#    overwriting parent class attribute\n",
    "    speed = 12\n",
    "    size = 'small'\n",
    "    \n",
    "    def __init__(self, name, fantasy_class, stats, height):\n",
    "        super().__init__(name, fantasy_class, stats)\n",
    "        self.height = height\n",
    "        \n",
    "    def lucky(self):\n",
    "        print(f'You gain a {randint(1, self.stats[\"dexterity\"])} bonus to luck roll')\n",
    "        \n",
    "    def display_my_class(self):\n",
    "        print('My class is a hobbit')\n",
    "        \n",
    "bilbo = Hobbit('bilbo', 'ranger', dummy_stats, 4)\n",
    "#showing overwritten attribute  \n",
    "bilbo.speed\n",
    "\n",
    "bilbo.display_my_class()\n",
    "bilbo.display_character()"
   ]
  },
  {
   "cell_type": "markdown",
   "metadata": {},
   "source": [
    "##### Defining Attributes and Methods for the Child Class"
   ]
  },
  {
   "cell_type": "code",
   "execution_count": null,
   "metadata": {},
   "outputs": [],
   "source": [
    "# See Above"
   ]
  },
  {
   "cell_type": "markdown",
   "metadata": {},
   "source": [
    "##### Method Overriding"
   ]
  },
  {
   "cell_type": "code",
   "execution_count": 135,
   "metadata": {},
   "outputs": [
    {
     "name": "stdout",
     "output_type": "stream",
     "text": [
      "My class is stout hobbit\n",
      "Sam Barbarian {'strength': 10, 'dexterity': 10}\n"
     ]
    }
   ],
   "source": [
    "# Grandchild class\n",
    "class Stout_Hobbit(Hobbit):\n",
    "    \n",
    "    def __init__(self, name, fantasy_class, stats, height, weight):\n",
    "        super().__init__(name, fantasy_class, stats, height)\n",
    "        self.weight = weight\n",
    "        \n",
    "    def display_my_class(self):\n",
    "        print('My class is stout hobbit')\n",
    "        \n",
    "sam = Stout_Hobbit('Sam', 'Barbarian', dummy_stats, 4, 200)\n",
    "\n",
    "sam.speed\n",
    "\n",
    "sam.display_my_class()\n",
    "sam.display_character()"
   ]
  },
  {
   "cell_type": "markdown",
   "metadata": {},
   "source": [
    "## Classes as Attributes <br>\n",
    "<p>Classes can also be used as attributes within another class. This is useful in situations where you need to keep variables locally stored, instead of globally stored.</p>"
   ]
  },
  {
   "cell_type": "code",
   "execution_count": 145,
   "metadata": {},
   "outputs": [],
   "source": [
    "class Stats:\n",
    "    \n",
    "    def __init__(self, strength=10, dexterity=10, constitution=10, intelligence=10, wisdom=10, charisma=10):\n",
    "        self.strength = strength\n",
    "        self.dexterity = dexterity\n",
    "        self.constitution = constitution\n",
    "        self.intelligence = intelligence\n",
    "        self.wisdom = wisdom\n",
    "        self.charisma = charisma\n",
    "        \n",
    "    def simple_test(self):\n",
    "        print('method from object attribute')"
   ]
  },
  {
   "cell_type": "code",
   "execution_count": 146,
   "metadata": {},
   "outputs": [
    {
     "name": "stdout",
     "output_type": "stream",
     "text": [
      "method from object attribute\n"
     ]
    }
   ],
   "source": [
    "new_stats = Stats()\n",
    "new_character = Hobbit('Frodo', 'Dufis', new_stats, 4)\n",
    "\n",
    "new_character.stats.strength\n",
    "new_character.stats.simple_test()"
   ]
  },
  {
   "cell_type": "markdown",
   "metadata": {},
   "source": [
    "# Exercises"
   ]
  },
  {
   "cell_type": "markdown",
   "metadata": {},
   "source": [
    "### Exercise 1 - Turn the shopping cart program from yesterday into an object-oriented program\n",
    "\n",
    "The comments in the cell below are there as a guide for thinking about the problem. However, if you feel a different way is best for you and your own thought process, please do what feels best for you by all means."
   ]
  },
  {
   "cell_type": "code",
   "execution_count": 3,
   "metadata": {},
   "outputs": [
    {
     "name": "stdout",
     "output_type": "stream",
     "text": [
      "What items would you like to add? \n",
      "pant\n",
      "How many would you like to add? \n",
      "30\n",
      "Please scan price of item \n",
      "20\n",
      "Your basket has been added more than one item\n",
      "What items would you like to add? \n",
      "40\n",
      "How many would you like to add? \n",
      "10\n",
      "Please scan price of item \n",
      "30\n",
      "Your basket has been added more than one item\n",
      "Type \"show\" to show all items in your basket \n",
      "show\n",
      "Your basket is currently having 40 of ['pant', '40'] with total of $900\n",
      "Are you sure to remove this item? \n",
      "yes\n",
      "Which items would you like to remove? Type \"all\" to remove all items \n",
      "pant\n",
      "How many would you like to remove?10\n"
     ]
    },
    {
     "ename": "NameError",
     "evalue": "name 'damage' is not defined",
     "output_type": "error",
     "traceback": [
      "\u001b[0;31m---------------------------------------------------------------------------\u001b[0m",
      "\u001b[0;31mNameError\u001b[0m                                 Traceback (most recent call last)",
      "Cell \u001b[0;32mIn[3], line 53\u001b[0m\n\u001b[1;32m     49\u001b[0m \u001b[38;5;66;03m# shopping.items\u001b[39;00m\n\u001b[1;32m     50\u001b[0m \u001b[38;5;66;03m# shopping.remove()\u001b[39;00m\n\u001b[1;32m     51\u001b[0m \u001b[38;5;66;03m# shopping.items\u001b[39;00m\n\u001b[1;32m     52\u001b[0m shopping\u001b[38;5;241m.\u001b[39mshow()\n\u001b[0;32m---> 53\u001b[0m \u001b[43mshopping\u001b[49m\u001b[38;5;241;43m.\u001b[39;49m\u001b[43mremove\u001b[49m\u001b[43m(\u001b[49m\u001b[43m)\u001b[49m\n\u001b[1;32m     54\u001b[0m shopping\u001b[38;5;241m.\u001b[39mshow()\n",
      "Cell \u001b[0;32mIn[3], line 30\u001b[0m, in \u001b[0;36mCart.remove\u001b[0;34m(self)\u001b[0m\n\u001b[1;32m     28\u001b[0m amount_removed \u001b[38;5;241m=\u001b[39m \u001b[38;5;28mint\u001b[39m(\u001b[38;5;28minput\u001b[39m(\u001b[38;5;124m'\u001b[39m\u001b[38;5;124mHow many would you like to remove?\u001b[39m\u001b[38;5;124m'\u001b[39m))\n\u001b[1;32m     29\u001b[0m \u001b[38;5;28mself\u001b[39m\u001b[38;5;241m.\u001b[39mquantity \u001b[38;5;241m-\u001b[39m\u001b[38;5;241m=\u001b[39m amount_removed\n\u001b[0;32m---> 30\u001b[0m \u001b[38;5;28mself\u001b[39m\u001b[38;5;241m.\u001b[39mtotal \u001b[38;5;241m-\u001b[39m\u001b[38;5;241m=\u001b[39m (\u001b[43mdamage\u001b[49m \u001b[38;5;241m*\u001b[39m amount_removed)\n\u001b[1;32m     31\u001b[0m \u001b[38;5;28;01mif\u001b[39;00m \u001b[38;5;28mself\u001b[39m\u001b[38;5;241m.\u001b[39mitems \u001b[38;5;241m==\u001b[39m \u001b[38;5;241m0\u001b[39m:\n\u001b[1;32m     32\u001b[0m     \u001b[38;5;28mself\u001b[39m\u001b[38;5;241m.\u001b[39mitems\u001b[38;5;241m.\u001b[39mremove(items_toremove)\n",
      "\u001b[0;31mNameError\u001b[0m: name 'damage' is not defined"
     ]
    }
   ],
   "source": [
    "# Create a class called cart that retains items and has methods to add, remove, and show\n",
    "\n",
    "class Cart:\n",
    "    \n",
    "    def __init__(self, name, items=[], quantity = 0, total = 0):\n",
    "        self.name = name\n",
    "        self.items = items\n",
    "        self.quantity = quantity\n",
    "        self.total = total\n",
    "        \n",
    "    def add(self):\n",
    "        user_input = input('What items would you like to add? \\n' )\n",
    "        amount = int(input('How many would you like to add? \\n'))\n",
    "        damage = int(input('Please scan price of item \\n'))\n",
    "                           \n",
    "#         if user_input == 'quit': \n",
    "#             break\n",
    "#         else:\n",
    "        self.items.append(user_input)\n",
    "        self.quantity += amount\n",
    "        self.total += amount*damage\n",
    "        print(f'Your basket has been added {\"an\" if self.quantity == 1 else \"more than one\"} item')\n",
    "      \n",
    "    def remove(self):\n",
    "        change_mind = input('Are you sure to remove this item? \\n').lower()\n",
    "        if change_mind == 'yes':\n",
    "            items_toremove = input('Which items would you like to remove? Type \"all\" to remove all items \\n').lower()\n",
    "            amount_removed = int(input('How many would you like to remove?'))\n",
    "            self.quantity -= amount_removed\n",
    "            self.total -= (damage * amount_removed)\n",
    "            if self.items == 0:\n",
    "                self.items.remove(items_toremove)\n",
    "            print('your item has been removed')\n",
    "        if change_mind == 'all':\n",
    "            self.items.clear()\n",
    "            print('your basket has been cleared')\n",
    "        else:\n",
    "            print('The item you are trying to remove is not in your basket')\n",
    "       \n",
    "    def show(self):\n",
    "        show_items = input('Type \"show\" to show all items in your basket \\n')\n",
    "        if show_items == 'show':\n",
    "            print(f'Your basket is currently having {self.quantity} of {self.items} with total of ${self.total}')\n",
    "        if self.total == 0 and self.quantity == 0:\n",
    "            print('Your currently have nothing in the basket')\n",
    "shopping = Cart('khoa')           \n",
    "shopping.add() \n",
    "shopping.add()\n",
    "# shopping.items\n",
    "# shopping.remove()\n",
    "# shopping.items\n",
    "shopping.show()\n",
    "shopping.remove()\n",
    "shopping.show()"
   ]
  },
  {
   "cell_type": "markdown",
   "metadata": {},
   "source": [
    "### Exercise 2 - Write a Python class which has two methods get_String and print_String. get_String accept a string from the user and print_String print the string in upper case"
   ]
  },
  {
   "cell_type": "code",
   "execution_count": null,
   "metadata": {},
   "outputs": [],
   "source": []
  }
 ],
 "metadata": {
  "kernelspec": {
   "display_name": "Python 3 (ipykernel)",
   "language": "python",
   "name": "python3"
  },
  "language_info": {
   "codemirror_mode": {
    "name": "ipython",
    "version": 3
   },
   "file_extension": ".py",
   "mimetype": "text/x-python",
   "name": "python",
   "nbconvert_exporter": "python",
   "pygments_lexer": "ipython3",
   "version": "3.10.9"
  }
 },
 "nbformat": 4,
 "nbformat_minor": 2
}
